{
 "cells": [
  {
   "cell_type": "markdown",
   "id": "bb163b7b",
   "metadata": {
    "id": "bb163b7b"
   },
   "source": [
    "Step 1. Ensure that you have the dataset file named `transactions.csv` in the current directory.\n",
    "\n",
    "The dataset is a subset of https://www.kaggle.com/ealaxi/paysim1/version/2 which was originally generated as part of the following research:\n",
    "\n",
    "E. A. Lopez-Rojas , A. Elmir, and S. Axelsson. \"PaySim: A financial mobile money simulator for fraud detection\". In: The 28th European Modeling and Simulation Symposium-EMSS, Larnaca, Cyprus. 2016"
   ]
  },
  {
   "cell_type": "markdown",
   "id": "72c898bd",
   "metadata": {
    "id": "72c898bd"
   },
   "source": [
    "Step 2. Complete the following exercises.\n",
    "\n",
    "0. Read the dataset (`transactions.csv`) as a Pandas dataframe. Note that the first row of the CSV contains the column names.\n",
    "\n",
    "0. Return the column names as a list from the dataframe.\n",
    "\n",
    "0. Return the first k rows from the dataframe.\n",
    "\n",
    "0. Return a random sample of k rows from the dataframe.\n",
    "\n",
    "0. Return a list of the unique transaction types.\n",
    "\n",
    "0. Return a Pandas series of the top 10 transaction destinations with frequencies.\n",
    "\n",
    "0. Return all the rows from the dataframe for which fraud was detected.\n",
    "\n",
    "0. Bonus. Return a dataframe that contains the number of distinct destinations that each source has interacted with to, sorted in descending order. You will find [groupby](https://pandas.pydata.org/pandas-docs/stable/reference/api/pandas.DataFrame.groupby.html) and [agg](https://pandas.pydata.org/pandas-docs/stable/reference/api/pandas.core.groupby.DataFrameGroupBy.aggregate.html) useful. The predefined aggregate functions are under `pandas.core.groupby.GroupBy.*`. See the [left hand column](https://pandas.pydata.org/pandas-docs/stable/reference/api/pandas.core.groupby.DataFrameGroupBy.nunique.html)."
   ]
  },
  {
   "cell_type": "markdown",
   "id": "2f146b9d",
   "metadata": {
    "id": "2f146b9d"
   },
   "source": [
    "Use the empty cell to test the exercises. If you modify the original `df`, you can rerun the cell containing `exercise_0`."
   ]
  },
  {
   "cell_type": "code",
   "execution_count": 1,
   "id": "EDd3m5pMN01e",
   "metadata": {
    "id": "EDd3m5pMN01e"
   },
   "outputs": [
    {
     "name": "stdout",
     "output_type": "stream",
     "text": [
      "/Users/ameliak/Desktop/JPMORGAN\n",
      "done\n"
     ]
    }
   ],
   "source": [
    "import pandas as pd\n",
    "import matplotlib.pyplot as plt\n",
    "import os\n",
    "import pandas as pd\n",
    "import numpy as np\n",
    "os.chdir('/Users/ameliak/Desktop/JPMORGAN')\n",
    "print(os.getcwd())\n",
    "def exercise_0(file):\n",
    "    return pd.read_csv(file) #succesfully read in file\n",
    "\n",
    "def exercise_1(df):\n",
    "    return list(df)\n",
    "\n",
    "def exercise_2(df, k): #return a number of rows\n",
    "    #k is a parameter\n",
    "    return df.head(k)\n",
    "\n",
    "def exercise_3(df, k): #random column length selection\n",
    "    return df.sample(n=k)\n",
    "\n",
    "def exercise_4(df): #selects all transaction types\n",
    "    return df['type'].unique()\n",
    "\n",
    "def exercise_5(df):\n",
    "    return df['nameDest'].value_counts().head(10)\n",
    "    #returns PAYMENT, CASHOUT, CASHIN, TRANSFER, DEBIT in decreasing order\n",
    "\n",
    "def exercise_6(df):\n",
    "    return df[df['isFraud'] == 1]\n",
    "\n",
    "print('done')"
   ]
  },
  {
   "cell_type": "code",
   "execution_count": 2,
   "id": "bc65b41b",
   "metadata": {},
   "outputs": [
    {
     "name": "stdout",
     "output_type": "stream",
     "text": [
      "done\n"
     ]
    }
   ],
   "source": [
    "df = pd.read_csv(\"transactions.csv\") #call function 0\n",
    "print('done')"
   ]
  },
  {
   "cell_type": "code",
   "execution_count": 4,
   "id": "20ca81ca",
   "metadata": {},
   "outputs": [
    {
     "name": "stdout",
     "output_type": "stream",
     "text": [
      "done!\n"
     ]
    }
   ],
   "source": [
    "exercise_1(df)\n",
    "exercise_2(df, 5)\n",
    "exercise_3(df, 5)\n",
    "exercise_4(df)\n",
    "exercise_5(df)\n",
    "exercise_6(df)\n",
    "print('done!')"
   ]
  },
  {
   "cell_type": "code",
   "execution_count": 8,
   "id": "9158f0bd",
   "metadata": {
    "id": "9158f0bd"
   },
   "outputs": [
    {
     "name": "stdout",
     "output_type": "stream",
     "text": [
      "pandas series of the top 10 transaction destinations with frequencies.\n",
      "C985934102     84\n",
      "C1286084959    80\n",
      "C248609774     75\n",
      "C1590550415    74\n",
      "C2083562754    74\n",
      "C665576141     72\n",
      "C977993101     70\n",
      "C1360767589    69\n",
      "C451111351     66\n",
      "C97730845      64\n",
      "Name: nameDest, dtype: int64\n"
     ]
    }
   ],
   "source": [
    "# Test exercises here\n",
    "print('pandas series of the top 10 transaction destinations with frequencies.')\n",
    "print(exercise_5(df))\n"
   ]
  },
  {
   "cell_type": "code",
   "execution_count": 9,
   "id": "525ddf46",
   "metadata": {},
   "outputs": [
    {
     "name": "stdout",
     "output_type": "stream",
     "text": [
      "   step      type    amount     nameOrig  oldbalanceOrg  newbalanceOrig  \\\n",
      "0     1   PAYMENT   9839.64  C1231006815      170136.00       160296.36   \n",
      "1     1   PAYMENT   1864.28  C1666544295       21249.00        19384.72   \n",
      "2     1  TRANSFER    181.00  C1305486145         181.00            0.00   \n",
      "3     1  CASH_OUT    181.00   C840083671         181.00            0.00   \n",
      "4     1   PAYMENT  11668.14  C2048537720       41554.00        29885.86   \n",
      "5     1   PAYMENT   7817.71    C90045638       53860.00        46042.29   \n",
      "6     1   PAYMENT   7107.77   C154988899      183195.00       176087.23   \n",
      "7     1   PAYMENT   7861.64  C1912850431      176087.23       168225.59   \n",
      "8     1   PAYMENT   4024.36  C1265012928        2671.00            0.00   \n",
      "9     1     DEBIT   5337.77   C712410124       41720.00        36382.23   \n",
      "\n",
      "      nameDest  oldbalanceDest  newbalanceDest  isFraud  isFlaggedFraud  \n",
      "0  M1979787155             0.0            0.00        0               0  \n",
      "1  M2044282225             0.0            0.00        0               0  \n",
      "2   C553264065             0.0            0.00        1               0  \n",
      "3    C38997010         21182.0            0.00        1               0  \n",
      "4  M1230701703             0.0            0.00        0               0  \n",
      "5   M573487274             0.0            0.00        0               0  \n",
      "6   M408069119             0.0            0.00        0               0  \n",
      "7   M633326333             0.0            0.00        0               0  \n",
      "8  M1176932104             0.0            0.00        0               0  \n",
      "9   C195600860         41898.0        40348.79        0               0  \n",
      "Return the first 10 rows from the dataframe.\n"
     ]
    }
   ],
   "source": [
    "print(exercise_2(df, 10))\n",
    "print('Return the first 10 rows from the dataframe.')"
   ]
  },
  {
   "cell_type": "code",
   "execution_count": 10,
   "id": "b77b7ef7",
   "metadata": {},
   "outputs": [
    {
     "name": "stdout",
     "output_type": "stream",
     "text": [
      "['PAYMENT' 'TRANSFER' 'CASH_OUT' 'DEBIT' 'CASH_IN']\n",
      "Return a list of the unique transaction types.\n"
     ]
    }
   ],
   "source": [
    "print(exercise_4(df))\n",
    "print('Return a list of the unique transaction types.')"
   ]
  },
  {
   "cell_type": "code",
   "execution_count": 11,
   "id": "bc7029bc",
   "metadata": {},
   "outputs": [
    {
     "name": "stdout",
     "output_type": "stream",
     "text": [
      "        step      type      amount     nameOrig  oldbalanceOrg  \\\n",
      "2          1  TRANSFER      181.00  C1305486145         181.00   \n",
      "3          1  CASH_OUT      181.00   C840083671         181.00   \n",
      "251        1  TRANSFER     2806.00  C1420196421        2806.00   \n",
      "252        1  CASH_OUT     2806.00  C2101527076        2806.00   \n",
      "680        1  TRANSFER    20128.00   C137533655       20128.00   \n",
      "...      ...       ...         ...          ...            ...   \n",
      "182862    13  CASH_OUT      408.00  C1894004688         408.00   \n",
      "193765    13  TRANSFER    48375.02   C920803432       48375.02   \n",
      "193766    13  CASH_OUT    48375.02  C1894578299       48375.02   \n",
      "196775    13  TRANSFER  4022667.54   C735463888     4022667.54   \n",
      "196776    13  CASH_OUT  4022667.54    C79951219     4022667.54   \n",
      "\n",
      "        newbalanceOrig     nameDest  oldbalanceDest  newbalanceDest  isFraud  \\\n",
      "2                  0.0   C553264065            0.00            0.00        1   \n",
      "3                  0.0    C38997010        21182.00            0.00        1   \n",
      "251                0.0   C972765878            0.00            0.00        1   \n",
      "252                0.0  C1007251739        26202.00            0.00        1   \n",
      "680                0.0  C1848415041            0.00            0.00        1   \n",
      "...                ...          ...             ...             ...      ...   \n",
      "182862             0.0  C1293978242       898297.85      1075854.14        1   \n",
      "193765             0.0  C1767389067            0.00            0.00        1   \n",
      "193766             0.0   C590035788       374803.26       658520.33        1   \n",
      "196775             0.0  C1548348754            0.00            0.00        1   \n",
      "196776             0.0  C1499489682        80136.56      4057191.21        1   \n",
      "\n",
      "        isFlaggedFraud  \n",
      "2                    0  \n",
      "3                    0  \n",
      "251                  0  \n",
      "252                  0  \n",
      "680                  0  \n",
      "...                ...  \n",
      "182862               0  \n",
      "193765               0  \n",
      "193766               0  \n",
      "196775               0  \n",
      "196776               0  \n",
      "\n",
      "[147 rows x 11 columns]\n",
      "all the rows from the dataframe for which fraud was detected.\n"
     ]
    }
   ],
   "source": [
    "print(exercise_6(df))\n",
    "print('all the rows from the dataframe for which fraud was detected.')"
   ]
  },
  {
   "cell_type": "code",
   "execution_count": 92,
   "id": "3abb50d6",
   "metadata": {},
   "outputs": [
    {
     "data": {
      "text/html": [
       "<div>\n",
       "<style scoped>\n",
       "    .dataframe tbody tr th:only-of-type {\n",
       "        vertical-align: middle;\n",
       "    }\n",
       "\n",
       "    .dataframe tbody tr th {\n",
       "        vertical-align: top;\n",
       "    }\n",
       "\n",
       "    .dataframe thead th {\n",
       "        text-align: right;\n",
       "    }\n",
       "</style>\n",
       "<table border=\"1\" class=\"dataframe\">\n",
       "  <thead>\n",
       "    <tr style=\"text-align: right;\">\n",
       "      <th></th>\n",
       "      <th>step</th>\n",
       "      <th>type</th>\n",
       "      <th>amount</th>\n",
       "      <th>nameOrig</th>\n",
       "      <th>oldbalanceOrg</th>\n",
       "      <th>newbalanceOrig</th>\n",
       "      <th>nameDest</th>\n",
       "      <th>oldbalanceDest</th>\n",
       "      <th>newbalanceDest</th>\n",
       "      <th>isFraud</th>\n",
       "      <th>isFlaggedFraud</th>\n",
       "    </tr>\n",
       "  </thead>\n",
       "  <tbody>\n",
       "    <tr>\n",
       "      <th>0</th>\n",
       "      <td>1</td>\n",
       "      <td>[1, PAYMENT, 9839.64, C1231006815, 170136.0, 1...</td>\n",
       "      <td>9839.64</td>\n",
       "      <td>C1231006815</td>\n",
       "      <td>170136.0</td>\n",
       "      <td>160296.36</td>\n",
       "      <td>M1979787155</td>\n",
       "      <td>0.00</td>\n",
       "      <td>0.00</td>\n",
       "      <td>0</td>\n",
       "      <td>0</td>\n",
       "    </tr>\n",
       "    <tr>\n",
       "      <th>1</th>\n",
       "      <td>1</td>\n",
       "      <td>[1, PAYMENT, 1864.28, C1666544295, 21249.0, 19...</td>\n",
       "      <td>1864.28</td>\n",
       "      <td>C1666544295</td>\n",
       "      <td>21249.0</td>\n",
       "      <td>19384.72</td>\n",
       "      <td>M2044282225</td>\n",
       "      <td>0.00</td>\n",
       "      <td>0.00</td>\n",
       "      <td>0</td>\n",
       "      <td>0</td>\n",
       "    </tr>\n",
       "    <tr>\n",
       "      <th>2</th>\n",
       "      <td>1</td>\n",
       "      <td>[1, TRANSFER, 181.0, C1305486145, 181.0, 0.0, ...</td>\n",
       "      <td>181.00</td>\n",
       "      <td>C1305486145</td>\n",
       "      <td>181.0</td>\n",
       "      <td>0.00</td>\n",
       "      <td>C553264065</td>\n",
       "      <td>0.00</td>\n",
       "      <td>0.00</td>\n",
       "      <td>1</td>\n",
       "      <td>0</td>\n",
       "    </tr>\n",
       "    <tr>\n",
       "      <th>3</th>\n",
       "      <td>1</td>\n",
       "      <td>[1, CASH_OUT, 181.0, C840083671, 181.0, 0.0, C...</td>\n",
       "      <td>181.00</td>\n",
       "      <td>C840083671</td>\n",
       "      <td>181.0</td>\n",
       "      <td>0.00</td>\n",
       "      <td>C38997010</td>\n",
       "      <td>21182.00</td>\n",
       "      <td>0.00</td>\n",
       "      <td>1</td>\n",
       "      <td>0</td>\n",
       "    </tr>\n",
       "    <tr>\n",
       "      <th>4</th>\n",
       "      <td>1</td>\n",
       "      <td>[1, PAYMENT, 11668.14, C2048537720, 41554.0, 2...</td>\n",
       "      <td>11668.14</td>\n",
       "      <td>C2048537720</td>\n",
       "      <td>41554.0</td>\n",
       "      <td>29885.86</td>\n",
       "      <td>M1230701703</td>\n",
       "      <td>0.00</td>\n",
       "      <td>0.00</td>\n",
       "      <td>0</td>\n",
       "      <td>0</td>\n",
       "    </tr>\n",
       "    <tr>\n",
       "      <th>...</th>\n",
       "      <td>...</td>\n",
       "      <td>...</td>\n",
       "      <td>...</td>\n",
       "      <td>...</td>\n",
       "      <td>...</td>\n",
       "      <td>...</td>\n",
       "      <td>...</td>\n",
       "      <td>...</td>\n",
       "      <td>...</td>\n",
       "      <td>...</td>\n",
       "      <td>...</td>\n",
       "    </tr>\n",
       "    <tr>\n",
       "      <th>19995</th>\n",
       "      <td>8</td>\n",
       "      <td>[8, PAYMENT, 17031.89, C1718873127, 105935.0, ...</td>\n",
       "      <td>17031.89</td>\n",
       "      <td>C1718873127</td>\n",
       "      <td>105935.0</td>\n",
       "      <td>88903.11</td>\n",
       "      <td>M838307590</td>\n",
       "      <td>0.00</td>\n",
       "      <td>0.00</td>\n",
       "      <td>0</td>\n",
       "      <td>0</td>\n",
       "    </tr>\n",
       "    <tr>\n",
       "      <th>19996</th>\n",
       "      <td>8</td>\n",
       "      <td>[8, CASH_IN, 121530.49, C218252593, 10430.0, 1...</td>\n",
       "      <td>121530.49</td>\n",
       "      <td>C218252593</td>\n",
       "      <td>10430.0</td>\n",
       "      <td>131960.49</td>\n",
       "      <td>C1192983708</td>\n",
       "      <td>99479.60</td>\n",
       "      <td>98055.06</td>\n",
       "      <td>0</td>\n",
       "      <td>0</td>\n",
       "    </tr>\n",
       "    <tr>\n",
       "      <th>19997</th>\n",
       "      <td>8</td>\n",
       "      <td>[8, TRANSFER, 780953.77, C1098444577, 905174.0...</td>\n",
       "      <td>780953.77</td>\n",
       "      <td>C1098444577</td>\n",
       "      <td>905174.0</td>\n",
       "      <td>124220.23</td>\n",
       "      <td>C1629911510</td>\n",
       "      <td>3145.61</td>\n",
       "      <td>1925872.77</td>\n",
       "      <td>0</td>\n",
       "      <td>0</td>\n",
       "    </tr>\n",
       "    <tr>\n",
       "      <th>19998</th>\n",
       "      <td>8</td>\n",
       "      <td>[8, PAYMENT, 9987.56, C940782077, 39734.0, 297...</td>\n",
       "      <td>9987.56</td>\n",
       "      <td>C940782077</td>\n",
       "      <td>39734.0</td>\n",
       "      <td>29746.44</td>\n",
       "      <td>M898700870</td>\n",
       "      <td>0.00</td>\n",
       "      <td>0.00</td>\n",
       "      <td>0</td>\n",
       "      <td>0</td>\n",
       "    </tr>\n",
       "    <tr>\n",
       "      <th>19999</th>\n",
       "      <td>8</td>\n",
       "      <td>[8, CASH_IN, 149516.02, C715515400, 100643.0, ...</td>\n",
       "      <td>149516.02</td>\n",
       "      <td>C715515400</td>\n",
       "      <td>100643.0</td>\n",
       "      <td>250159.02</td>\n",
       "      <td>C955610633</td>\n",
       "      <td>30427.00</td>\n",
       "      <td>0.00</td>\n",
       "      <td>0</td>\n",
       "      <td>0</td>\n",
       "    </tr>\n",
       "  </tbody>\n",
       "</table>\n",
       "<p>20000 rows × 11 columns</p>\n",
       "</div>"
      ],
      "text/plain": [
       "       step                                               type     amount  \\\n",
       "0         1  [1, PAYMENT, 9839.64, C1231006815, 170136.0, 1...    9839.64   \n",
       "1         1  [1, PAYMENT, 1864.28, C1666544295, 21249.0, 19...    1864.28   \n",
       "2         1  [1, TRANSFER, 181.0, C1305486145, 181.0, 0.0, ...     181.00   \n",
       "3         1  [1, CASH_OUT, 181.0, C840083671, 181.0, 0.0, C...     181.00   \n",
       "4         1  [1, PAYMENT, 11668.14, C2048537720, 41554.0, 2...   11668.14   \n",
       "...     ...                                                ...        ...   \n",
       "19995     8  [8, PAYMENT, 17031.89, C1718873127, 105935.0, ...   17031.89   \n",
       "19996     8  [8, CASH_IN, 121530.49, C218252593, 10430.0, 1...  121530.49   \n",
       "19997     8  [8, TRANSFER, 780953.77, C1098444577, 905174.0...  780953.77   \n",
       "19998     8  [8, PAYMENT, 9987.56, C940782077, 39734.0, 297...    9987.56   \n",
       "19999     8  [8, CASH_IN, 149516.02, C715515400, 100643.0, ...  149516.02   \n",
       "\n",
       "          nameOrig  oldbalanceOrg  newbalanceOrig     nameDest  \\\n",
       "0      C1231006815       170136.0       160296.36  M1979787155   \n",
       "1      C1666544295        21249.0        19384.72  M2044282225   \n",
       "2      C1305486145          181.0            0.00   C553264065   \n",
       "3       C840083671          181.0            0.00    C38997010   \n",
       "4      C2048537720        41554.0        29885.86  M1230701703   \n",
       "...            ...            ...             ...          ...   \n",
       "19995  C1718873127       105935.0        88903.11   M838307590   \n",
       "19996   C218252593        10430.0       131960.49  C1192983708   \n",
       "19997  C1098444577       905174.0       124220.23  C1629911510   \n",
       "19998   C940782077        39734.0        29746.44   M898700870   \n",
       "19999   C715515400       100643.0       250159.02   C955610633   \n",
       "\n",
       "       oldbalanceDest  newbalanceDest  isFraud  isFlaggedFraud  \n",
       "0                0.00            0.00        0               0  \n",
       "1                0.00            0.00        0               0  \n",
       "2                0.00            0.00        1               0  \n",
       "3            21182.00            0.00        1               0  \n",
       "4                0.00            0.00        0               0  \n",
       "...               ...             ...      ...             ...  \n",
       "19995            0.00            0.00        0               0  \n",
       "19996        99479.60        98055.06        0               0  \n",
       "19997         3145.61      1925872.77        0               0  \n",
       "19998            0.00            0.00        0               0  \n",
       "19999        30427.00            0.00        0               0  \n",
       "\n",
       "[20000 rows x 11 columns]"
      ]
     },
     "execution_count": 92,
     "metadata": {},
     "output_type": "execute_result"
    }
   ],
   "source": [
    "#visualize data here\n",
    "exercise_2(df, 20000)\n"
   ]
  },
  {
   "cell_type": "markdown",
   "id": "ed2dc2f4",
   "metadata": {
    "id": "ed2dc2f4"
   },
   "source": [
    "Create graphs for the following. \n",
    "1. Transaction types bar chart, Transaction types split by fraud bar chart\n",
    "1. Origin account balance delta v. Destination account balance delta scatter plot for Cash Out transactions\n",
    "\n",
    "Ensure that the graphs have the following:\n",
    " - Title\n",
    " - Labeled Axes\n",
    " \n",
    "The function plot the graph and then return a string containing a short description explaining the relevance of the chart."
   ]
  },
  {
   "cell_type": "code",
   "execution_count": 17,
   "id": "ab229b34",
   "metadata": {
    "id": "ab229b34"
   },
   "outputs": [
    {
     "data": {
      "text/plain": [
       "'We can interpret several things from this data plot. Namely, the frequency of fraud is limited to CASH OUT and TRANSFER transactions only. Furthermore, while fraud is occuring it is minimal,75 and 72 occurances respectively. All CASH IN, PAYMENT, and DEBIT transactionswere non-fradulent. '"
      ]
     },
     "execution_count": 17,
     "metadata": {},
     "output_type": "execute_result"
    },
    {
     "data": {
      "image/png": "[encoded data removed]",
      "text/plain": [
       "<Figure size 432x720 with 2 Axes>"
      ]
     },
     "metadata": {
      "needs_background": "light"
     },
     "output_type": "display_data"
    }
   ],
   "source": [
    "##cannot figure these graphs out!! need help\n",
    "def visual_1(df):\n",
    "    def transaction_counts(df):\n",
    "        return df['type'].value_counts()\n",
    "    def transaction_counts_split_by_fraud(df):\n",
    "        return df.groupby(by=['type', 'isFraud']).size()\n",
    "\n",
    "    fig, axs = plt.subplots(2, figsize=(6,10))\n",
    "    transaction_counts(df).plot(ax=axs[0], kind='bar')\n",
    "    axs[0].set_title('Transac. type frequencies')\n",
    "    axs[0].set_xlabel('Transac. type')\n",
    "    axs[0].set_ylabel('Occurance')\n",
    "    transaction_counts_split_by_fraud(df).plot(ax=axs[1], kind='bar')\n",
    "    axs[1].set_title('Transac. types frequencies: split by fraud')\n",
    "    axs[1].set_xlabel('Transac. type: fraud')\n",
    "    axs[1].set_ylabel('Occurrence')\n",
    "    fig.suptitle('TODO')\n",
    "    fig.tight_layout(rect=[0, 0.03, 1, 0.95])\n",
    "    for ax in axs:\n",
    "        for p in ax.patches:\n",
    "            ax.annotate(p.get_height(), (p.get_x(), p.get_height()))\n",
    "    return 'We can interpret several things from this data plot. ' \\\n",
    "           'Namely, the frequency of fraud is limited to CASH OUT and TRANSFER ' \\\n",
    "           'transactions only. Furthermore, while fraud is occuring it is minimal,'\\\n",
    "            '75 and 72 occurances respectively. All CASH IN, PAYMENT, and DEBIT transactions'\\\n",
    "            ' were non-fradulent. '\n",
    "         \n",
    "visual_1(df)\n",
    "\n",
    "\n"
   ]
  },
  {
   "cell_type": "code",
   "execution_count": 5,
   "id": "38ab2f47",
   "metadata": {
    "id": "38ab2f47"
   },
   "outputs": [
    {
     "name": "stdout",
     "output_type": "stream",
     "text": [
      "Origin account balance delta v. Destination account balance delta scatter plot for Cash Out transactions\n"
     ]
    },
    {
     "data": {
      "text/plain": [
       "'A cash out refers to a client withdrawing money.  As you can see, activity is only in the first two quadrantssuggesting that our data is structured correctly. '"
      ]
     },
     "execution_count": 5,
     "metadata": {},
     "output_type": "execute_result"
    },
    {
     "data": {
      "image/png": "[encoded data removed]",
      "text/plain": [
       "<Figure size 432x288 with 1 Axes>"
      ]
     },
     "metadata": {
      "needs_background": "light"
     },
     "output_type": "display_data"
    }
   ],
   "source": [
    "print('Origin account balance delta v. Destination account balance delta scatter plot for Cash Out transactions')\n",
    "def visual_2(df):\n",
    "    def query(df):\n",
    "        df['Origin Delta'] = df['oldbalanceOrg'] -\tdf['newbalanceOrig']\n",
    "        df['Destination Delta'] = df['oldbalanceDest'] -\tdf['newbalanceDest']\n",
    "        return df[df['type']=='CASH_OUT']\n",
    "    plot = query(df).plot.scatter(x='Origin Delta',y='Destination Delta')\n",
    "    plot.set_title('Scatter plot for Cash Out transactions')\n",
    "    plot.set_xlim(left=-1e3, right=1e3)\n",
    "    plot.set_ylim(bottom=-1e3, top=1e3)\n",
    "    return 'A cash out refers to a client withdrawing money.  '\\\n",
    "             'As you can see, activity is only in the first two quadrants'\\\n",
    "            'suggesting that our data is structured correctly. '\\\n",
    "    \n",
    "\n",
    "visual_2(df)"
   ]
  },
  {
   "cell_type": "code",
   "execution_count": 2,
   "id": "079e0b33",
   "metadata": {},
   "outputs": [
    {
     "data": {
      "text/plain": [
       "<AxesSubplot:>"
      ]
     },
     "execution_count": 2,
     "metadata": {},
     "output_type": "execute_result"
    },
    {
     "data": {
      "image/png": "[encoded data removed]",
      "text/plain": [
       "<Figure size 432x288 with 1 Axes>"
      ]
     },
     "metadata": {
      "needs_background": "light"
     },
     "output_type": "display_data"
    }
   ],
   "source": [
    "df.plot()"
   ]
  },
  {
   "cell_type": "markdown",
   "id": "f572d06d",
   "metadata": {
    "id": "f572d06d"
   },
   "source": [
    "Use your newly-gained Pandas skills to find an insight from the dataset. You have full flexibility to go in whichever direction interests you. Please create a visual as above for this query. `visual_custom` should call `exercise_custom`."
   ]
  },
  {
   "cell_type": "code",
   "execution_count": 4,
   "id": "5393e5c5",
   "metadata": {
    "id": "5393e5c5"
   },
   "outputs": [
    {
     "name": "stdout",
     "output_type": "stream",
     "text": [
      "We can see here that the flagged fraud is missing actual instances of fraud.\n"
     ]
    },
    {
     "data": {
      "image/png": "[encoded data removed]",
      "text/plain": [
       "<Figure size 288x288 with 1 Axes>"
      ]
     },
     "metadata": {
      "needs_background": "light"
     },
     "output_type": "display_data"
    }
   ],
   "source": [
    "def exercise_custom(df):\n",
    "    return df[['isFlaggedFraud', 'isFraud']].value_counts()\n",
    "    \n",
    "def visual_custom(df):\n",
    "    fig, ax = plt.subplots(1, figsize=(4,4))\n",
    "    exercise_custom(df).plot(ax=ax, kind='bar')\n",
    "    ax.set_title('Fraud detection')\n",
    "    ax.set_xlabel('isFlaggedFraud, isFraud')\n",
    "    ax.set_ylabel('Occurrence')\n",
    "\n",
    "    return \n",
    "visual_custom(df)\n",
    "\n",
    "print(\"We can see here that the flagged fraud is missing actual instances of fraud.\")"
   ]
  },
  {
   "cell_type": "markdown",
   "id": "ddecc786",
   "metadata": {
    "id": "ddecc786"
   },
   "source": [
    "Submission\n",
    "\n",
    "1. Copy the exercises into `task1.py`.\n",
    "2. Upload `task1.py` to Forage."
   ]
  },
  {
   "cell_type": "markdown",
   "id": "qpIxC3xgQpOo",
   "metadata": {
    "id": "qpIxC3xgQpOo"
   },
   "source": [
    "All done!\n",
    "\n",
    "Your work will be instrumental for our team's continued success."
   ]
  }
 ],
 "metadata": {
  "colab": {
   "collapsed_sections": [],
   "name": "task1.ipynb",
   "provenance": []
  },
  "kernelspec": {
   "display_name": "Python 3 (ipykernel)",
   "language": "python",
   "name": "python3"
  },
  "language_info": {
   "codemirror_mode": {
    "name": "ipython",
    "version": 3
   },
   "file_extension": ".py",
   "mimetype": "text/x-python",
   "name": "python",
   "nbconvert_exporter": "python",
   "pygments_lexer": "ipython3",
   "version": "3.10.5"
  }
 },
 "nbformat": 4,
 "nbformat_minor": 5
}
